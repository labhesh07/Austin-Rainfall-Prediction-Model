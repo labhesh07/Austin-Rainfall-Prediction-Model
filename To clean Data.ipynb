{
 "cells": [
  {
   "cell_type": "code",
   "execution_count": 1,
   "id": "1d9cc465-ade1-4096-b714-fa727489ad68",
   "metadata": {},
   "outputs": [],
   "source": [
    "#cleaing the data"
   ]
  },
  {
   "cell_type": "code",
   "execution_count": 2,
   "id": "807a239a-6218-42c1-adce-1486a0861722",
   "metadata": {},
   "outputs": [],
   "source": [
    "#import the library"
   ]
  },
  {
   "cell_type": "code",
   "execution_count": 3,
   "id": "c31731c0-0c7b-44ad-bfeb-5cc8bb8511d0",
   "metadata": {},
   "outputs": [],
   "source": [
    "import pandas as pd"
   ]
  },
  {
   "cell_type": "code",
   "execution_count": 4,
   "id": "15512675-7ef9-4271-8d58-c1718b8086cd",
   "metadata": {},
   "outputs": [],
   "source": [
    "import numpy as np"
   ]
  },
  {
   "cell_type": "code",
   "execution_count": 5,
   "id": "76e40519-3b44-4346-a542-85e1dc224fb2",
   "metadata": {},
   "outputs": [],
   "source": [
    "#read data in pandas dataframe"
   ]
  },
  {
   "cell_type": "code",
   "execution_count": 6,
   "id": "e6712a6f-ed66-4ca8-a000-094ab9cc3dc9",
   "metadata": {},
   "outputs": [],
   "source": [
    "data = pd.read_csv(\"austin_weather.csv\")"
   ]
  },
  {
   "cell_type": "code",
   "execution_count": 7,
   "id": "fa33eafe-4317-4ebc-9492-754d6583be5b",
   "metadata": {},
   "outputs": [],
   "source": [
    "#drop (delete) the unnecessary data"
   ]
  },
  {
   "cell_type": "code",
   "execution_count": 11,
   "id": "64b1fdd0-40cc-48b3-8bc3-50c3e2f7419c",
   "metadata": {},
   "outputs": [],
   "source": [
    "data = data.drop(['Events','Date','SeaLevelPressureHighInches','SeaLevelPressureLowInches'],axis =1)"
   ]
  },
  {
   "cell_type": "code",
   "execution_count": 12,
   "id": "c3f830bc-1422-41fd-9038-949547ef42c6",
   "metadata": {},
   "outputs": [],
   "source": [
    "data = data.replace ('T' , 0.0)"
   ]
  },
  {
   "cell_type": "code",
   "execution_count": 14,
   "id": "67c6cae5-ecad-472c-a000-7ce6521cf6ea",
   "metadata": {},
   "outputs": [],
   "source": [
    "data = data.replace('-' , 0)"
   ]
  },
  {
   "cell_type": "code",
   "execution_count": 15,
   "id": "cd613c56-8ba0-4424-ba55-f7440cee95a7",
   "metadata": {},
   "outputs": [],
   "source": [
    "data.to_csv('austin_data_clean.csv')"
   ]
  },
  {
   "cell_type": "code",
   "execution_count": 16,
   "id": "1f3adf3c-7863-41ef-8f11-9307a5593bf4",
   "metadata": {},
   "outputs": [],
   "source": [
    "import sklearn as sk"
   ]
  },
  {
   "cell_type": "code",
   "execution_count": 17,
   "id": "ddbb9b67-901a-4e7b-b569-5434d66eb162",
   "metadata": {},
   "outputs": [],
   "source": [
    "from sklearn.linear_model import LinearRegression"
   ]
  },
  {
   "cell_type": "code",
   "execution_count": 19,
   "id": "2c0218d2-17af-4c8e-a874-8d67495a5a0c",
   "metadata": {},
   "outputs": [],
   "source": [
    "import matplotlib.pyplot as plt"
   ]
  },
  {
   "cell_type": "code",
   "execution_count": null,
   "id": "ee65d732-244f-4d5c-af26-27aa8b7dfcac",
   "metadata": {},
   "outputs": [],
   "source": []
  }
 ],
 "metadata": {
  "kernelspec": {
   "display_name": "Python 3 (ipykernel)",
   "language": "python",
   "name": "python3"
  },
  "language_info": {
   "codemirror_mode": {
    "name": "ipython",
    "version": 3
   },
   "file_extension": ".py",
   "mimetype": "text/x-python",
   "name": "python",
   "nbconvert_exporter": "python",
   "pygments_lexer": "ipython3",
   "version": "3.12.4"
  }
 },
 "nbformat": 4,
 "nbformat_minor": 5
}
