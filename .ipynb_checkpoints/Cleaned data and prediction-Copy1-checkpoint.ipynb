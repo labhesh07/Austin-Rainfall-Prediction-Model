{
 "cells": [
  {
   "cell_type": "code",
   "execution_count": 1,
   "id": "0c58852e-5880-44b9-9801-174726945198",
   "metadata": {},
   "outputs": [
    {
     "ename": "NameError",
     "evalue": "name 'y' is not defined",
     "output_type": "error",
     "traceback": [
      "\u001b[1;31m---------------------------------------------------------------------------\u001b[0m",
      "\u001b[1;31mNameError\u001b[0m                                 Traceback (most recent call last)",
      "Cell \u001b[1;32mIn[1], line 12\u001b[0m\n\u001b[0;32m     10\u001b[0m Y \u001b[38;5;241m=\u001b[39m Y\u001b[38;5;241m.\u001b[39mvalues\u001b[38;5;241m.\u001b[39mreshape(\u001b[38;5;241m-\u001b[39m\u001b[38;5;241m1\u001b[39m,\u001b[38;5;241m1\u001b[39m)\n\u001b[0;32m     11\u001b[0m day_index \u001b[38;5;241m=\u001b[39m \u001b[38;5;241m798\u001b[39m\n\u001b[1;32m---> 12\u001b[0m days \u001b[38;5;241m=\u001b[39m [i \u001b[38;5;28;01mfor\u001b[39;00m i \u001b[38;5;129;01min\u001b[39;00m \u001b[38;5;28mrange\u001b[39m(\u001b[43my\u001b[49m\u001b[38;5;241m.\u001b[39msize)]\n\u001b[0;32m     13\u001b[0m clf \u001b[38;5;241m=\u001b[39m LinearRegression()\n\u001b[0;32m     14\u001b[0m clf\u001b[38;5;241m.\u001b[39mfit(X,Y)\n",
      "\u001b[1;31mNameError\u001b[0m: name 'y' is not defined"
     ]
    }
   ],
   "source": [
    "\n",
    "\n",
    "    import numpy as np\n",
    "    import pandas as pd\n",
    "    import sklearn as sk\n",
    "    from sklearn.linear_model import LinearRegression\n",
    "    import matplotlib.pyplot as plt\n",
    "    #read the cleaned data\n",
    "    data = pd.read_csv('austin_data_clean.csv')\n",
    "    X = data.drop([\"PrecipitationSumInches\"],axis=1)\n",
    "    Y = data['PrecipitationSumInches']\n",
    "    Y = Y.values.reshape(-1,1)\n",
    "    day_index = 798\n",
    "    days = [i for i in range(Y.size)]\n",
    "    clf = LinearRegression()\n",
    "    clf.fit(X,Y)\n",
    "    LinearRegression()\n",
    "    inp = np.array([[74],[60],[45],[67],[49],[43],[93],[75],[57],[29.68],[10],[7],[2],[20],[4],[31],[0.46]])\n",
    "    inp = inp.reshape(1,-1)\n",
    "    print(\"The precipitation in inches for the input is:\", clf.predict(inp))\n",
    "    print(\"The precipiitation trend graph:\")\n",
    "    plt.scatter(days, Y , color='g')\n",
    "    plt.scatter(days[day_index],y[day_index],color=\"r\")\n",
    "    plt.title(\"Precipitation Level\")\n",
    "    plt.xlabel('Days')\n",
    "    plt.ylabel(\"Precipitation in inches\")\n",
    "    plt.show()\n"
   ]
  },
  {
   "cell_type": "code",
   "execution_count": null,
   "id": "37576ad3-958d-4cf0-9da6-25dc17631a55",
   "metadata": {},
   "outputs": [],
   "source": []
  }
 ],
 "metadata": {
  "kernelspec": {
   "display_name": "Python 3 (ipykernel)",
   "language": "python",
   "name": "python3"
  },
  "language_info": {
   "codemirror_mode": {
    "name": "ipython",
    "version": 3
   },
   "file_extension": ".py",
   "mimetype": "text/x-python",
   "name": "python",
   "nbconvert_exporter": "python",
   "pygments_lexer": "ipython3",
   "version": "3.12.4"
  }
 },
 "nbformat": 4,
 "nbformat_minor": 5
}
