{
 "cells": [
  {
   "cell_type": "code",
   "execution_count": 1,
   "id": "1d9cc465-ade1-4096-b714-fa727489ad68",
   "metadata": {},
   "outputs": [],
   "source": [
    "#cleaing the data"
   ]
  },
  {
   "cell_type": "code",
   "execution_count": 2,
   "id": "807a239a-6218-42c1-adce-1486a0861722",
   "metadata": {},
   "outputs": [],
   "source": [
    "#import the library"
   ]
  },
  {
   "cell_type": "code",
   "execution_count": 3,
   "id": "c31731c0-0c7b-44ad-bfeb-5cc8bb8511d0",
   "metadata": {},
   "outputs": [],
   "source": [
    "import pandas as pd"
   ]
  },
  {
   "cell_type": "code",
   "execution_count": 4,
   "id": "15512675-7ef9-4271-8d58-c1718b8086cd",
   "metadata": {},
   "outputs": [],
   "source": [
    "import numpy as np"
   ]
  },
  {
   "cell_type": "code",
   "execution_count": 5,
   "id": "76e40519-3b44-4346-a542-85e1dc224fb2",
   "metadata": {},
   "outputs": [],
   "source": [
    "#read data in pandas dataframe"
   ]
  },
  {
   "cell_type": "code",
   "execution_count": 6,
   "id": "e6712a6f-ed66-4ca8-a000-094ab9cc3dc9",
   "metadata": {},
   "outputs": [],
   "source": [
    "data = pd.read_csv(\"austin_weather.csv\")"
   ]
  },
  {
   "cell_type": "code",
   "execution_count": 7,
   "id": "fa33eafe-4317-4ebc-9492-754d6583be5b",
   "metadata": {},
   "outputs": [],
   "source": [
    "#drop (delete) the unnecessary data"
   ]
  },
  {
   "cell_type": "code",
   "execution_count": null,
   "id": "64b1fdd0-40cc-48b3-8bc3-50c3e2f7419c",
   "metadata": {},
   "outputs": [],
   "source": [
    "data = data.drop(['Events','Date',',SeaLevelPressureHighInches','SeaLevelPressureLowInches', axis = 1])"
   ]
  }
 ],
 "metadata": {
  "kernelspec": {
   "display_name": "Python 3 (ipykernel)",
   "language": "python",
   "name": "python3"
  },
  "language_info": {
   "codemirror_mode": {
    "name": "ipython",
    "version": 3
   },
   "file_extension": ".py",
   "mimetype": "text/x-python",
   "name": "python",
   "nbconvert_exporter": "python",
   "pygments_lexer": "ipython3",
   "version": "3.12.4"
  }
 },
 "nbformat": 4,
 "nbformat_minor": 5
}
